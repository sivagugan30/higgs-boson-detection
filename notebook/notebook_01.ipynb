{
 "cells": [
  {
   "cell_type": "code",
   "id": "initial_id",
   "metadata": {
    "collapsed": true,
    "ExecuteTime": {
     "end_time": "2025-04-27T21:15:41.810880Z",
     "start_time": "2025-04-27T21:15:41.808636Z"
    }
   },
   "source": "import os",
   "outputs": [],
   "execution_count": 3
  },
  {
   "metadata": {
    "ExecuteTime": {
     "end_time": "2025-04-27T18:35:25.475460Z",
     "start_time": "2025-04-27T18:35:25.472753Z"
    }
   },
   "cell_type": "code",
   "source": "print('hello')",
   "id": "97226e8efbbb3a73",
   "outputs": [
    {
     "name": "stdout",
     "output_type": "stream",
     "text": [
      "hello\n"
     ]
    }
   ],
   "execution_count": 2
  },
  {
   "metadata": {},
   "cell_type": "code",
   "outputs": [],
   "execution_count": null,
   "source": "",
   "id": "ad09fc687ec43e00"
  },
  {
   "metadata": {},
   "cell_type": "code",
   "outputs": [],
   "execution_count": null,
   "source": "",
   "id": "a4a3ea0de4fab068"
  },
  {
   "metadata": {},
   "cell_type": "code",
   "outputs": [],
   "execution_count": null,
   "source": "",
   "id": "6bcf320dfe7a3f26"
  },
  {
   "metadata": {
    "ExecuteTime": {
     "end_time": "2025-04-27T21:16:30.746464Z",
     "start_time": "2025-04-27T21:16:30.743332Z"
    }
   },
   "cell_type": "code",
   "source": [
    "print(os.getcwd())\n",
    "\n",
    "os.chdir('/Users/siddhishnirgude/PycharmProjects/higgs-boson-detection/')"
   ],
   "id": "31fe0ef033f4199e",
   "outputs": [
    {
     "name": "stdout",
     "output_type": "stream",
     "text": [
      "/Users/siddhishnirgude/PycharmProjects/higgs-boson-detection\n"
     ]
    }
   ],
   "execution_count": 8
  },
  {
   "metadata": {
    "ExecuteTime": {
     "end_time": "2025-04-27T21:22:57.097008Z",
     "start_time": "2025-04-27T21:22:56.975115Z"
    }
   },
   "cell_type": "code",
   "source": [
    "# Step 1: Import Libraries\n",
    "import pandas as pd\n",
    "\n",
    "# Step 2: Load your cleaned dataset\n",
    "file_path = 'data/stratified_dataset_cleaned.csv'\n",
    "df = pd.read_csv(file_path)\n",
    "\n",
    "# Step 3: Drop the target column ('Label') because we only want feature-feature correlations\n",
    "features_only = df.drop(columns=['Label'])\n",
    "\n",
    "# Step 4: Compute Pearson Correlation Matrix\n",
    "corr_matrix = features_only.corr()\n",
    "\n",
    "# Step 5: Flatten the correlation matrix into table format\n",
    "corr_table = (\n",
    "    corr_matrix.stack()\n",
    "    .reset_index()\n",
    "    .rename(columns={'level_0': 'Feature 1', 'level_1': 'Feature 2', 0: 'Correlation'})\n",
    ")\n",
    "\n",
    "# Step 6: Remove self-correlations (Feature 1 == Feature 2)\n",
    "corr_table = corr_table[corr_table['Feature 1'] != corr_table['Feature 2']]\n",
    "\n",
    "# Step 7: Sort by absolute correlation value (highest first)\n",
    "corr_table['abs_corr'] = corr_table['Correlation'].abs()\n",
    "corr_table = corr_table.sort_values(by='abs_corr', ascending=False).drop(columns='abs_corr')\n",
    "\n",
    "# Step 8: Display the full correlation table\n",
    "corr_table\n",
    "\n",
    "# Step 9: Save the correlation table to CSV\n",
    "corr_table.to_csv('data/correlation_table.csv', index=False)\n",
    "\n",
    "print(\"✅ Correlation table saved successfully as 'correlation_table.csv'\")"
   ],
   "id": "1c2edcb233182e65",
   "outputs": [
    {
     "name": "stdout",
     "output_type": "stream",
     "text": [
      "✅ Correlation table saved successfully as 'correlation_table.csv'\n"
     ]
    }
   ],
   "execution_count": 11
  },
  {
   "metadata": {},
   "cell_type": "code",
   "outputs": [],
   "execution_count": null,
   "source": "",
   "id": "f3d31d5b57481f5f"
  }
 ],
 "metadata": {
  "kernelspec": {
   "display_name": "Python 3",
   "language": "python",
   "name": "python3"
  },
  "language_info": {
   "codemirror_mode": {
    "name": "ipython",
    "version": 2
   },
   "file_extension": ".py",
   "mimetype": "text/x-python",
   "name": "python",
   "nbconvert_exporter": "python",
   "pygments_lexer": "ipython2",
   "version": "2.7.6"
  }
 },
 "nbformat": 4,
 "nbformat_minor": 5
}
